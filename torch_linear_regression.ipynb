{
 "cells": [
  {
   "cell_type": "code",
   "execution_count": 1,
   "id": "982e5af7-1c19-4ca1-87aa-e2a4762ac69b",
   "metadata": {},
   "outputs": [
    {
     "data": {
      "text/plain": [
       "'2.5.1'"
      ]
     },
     "execution_count": 1,
     "metadata": {},
     "output_type": "execute_result"
    }
   ],
   "source": [
    "import torch\n",
    "torch.__version__"
   ]
  },
  {
   "cell_type": "code",
   "execution_count": 2,
   "id": "5ca45ab3-6ee8-462e-af7a-16eebc5c9761",
   "metadata": {},
   "outputs": [
    {
     "name": "stdout",
     "output_type": "stream",
     "text": [
      "<class 'pandas.core.frame.DataFrame'>\n",
      "RangeIndex: 35 entries, 0 to 34\n",
      "Data columns (total 2 columns):\n",
      " #   Column            Non-Null Count  Dtype  \n",
      "---  ------            --------------  -----  \n",
      " 0   YearsExperience   35 non-null     float64\n",
      " 1   Salary            35 non-null     int64  \n",
      "dtypes: float64(1), int64(1)\n",
      "memory usage: 692.0 bytes\n"
     ]
    }
   ],
   "source": [
    "import pandas as pd\n",
    "\n",
    "url= 'Practice/Salary.csv'\n",
    "df= pd.read_csv(url)\n",
    "\n",
    "df.info()"
   ]
  },
  {
   "cell_type": "code",
   "execution_count": 3,
   "id": "9e2983f1-1f5f-4ae6-b326-332ca6c76767",
   "metadata": {},
   "outputs": [
    {
     "name": "stdout",
     "output_type": "stream",
     "text": [
      "x_train_shape: (24,), y_train_shape: (24,), x_test_shape: (11,), y_test_shape: (11,)\n",
      "12.3 128765 2.9 56642\n",
      "[1.60123676] [1.38886721] [-0.93199615] [-0.8346172]\n"
     ]
    }
   ],
   "source": [
    "# data pre-processing\n",
    "\n",
    "from sklearn.preprocessing import StandardScaler\n",
    "from sklearn.model_selection import train_test_split\n",
    "\n",
    "X= df['YearsExperience '].values\n",
    "y= df['Salary'].values\n",
    "\n",
    "#train_test_split\n",
    "x_train, x_test, y_train, y_test = train_test_split(X, y, test_size= 0.3)\n",
    "print(f'x_train_shape: {x_train.shape}, y_train_shape: {y_train.shape}, x_test_shape: {x_test.shape}, y_test_shape: {y_test.shape}')\n",
    "print(x_train[0], y_train[0], x_test[0], y_test[0])\n",
    "\n",
    "x_train= x_train.reshape(-1, 1)\n",
    "y_train= y_train.reshape(-1, 1)\n",
    "\n",
    "x_test= x_test.reshape(-1 ,1)\n",
    "y_test= y_test.reshape(-1, 1)\n",
    "\n",
    "x_scaler= StandardScaler()\n",
    "x_train= x_scaler.fit_transform(x_train)\n",
    "x_test= x_scaler.transform(x_test)\n",
    "\n",
    "y_scaler= StandardScaler()\n",
    "y_train= y_scaler.fit_transform(y_train)\n",
    "y_test= y_scaler.transform(y_test)\n",
    "\n",
    "print(x_train[0], y_train[0], x_test[0], y_test[0])\n"
   ]
  },
  {
   "cell_type": "code",
   "execution_count": 4,
   "id": "0b19d6c0-6b3b-44cf-a70d-ccb96236b68c",
   "metadata": {},
   "outputs": [
    {
     "name": "stdout",
     "output_type": "stream",
     "text": [
      "torch.Size([24, 1]) torch.Size([24, 1]) torch.Size([11, 1]) torch.Size([24, 1])\n",
      "tensor([1.6012]) tensor([1.3889]) tensor([-0.9320]) tensor([-0.8346])\n"
     ]
    }
   ],
   "source": [
    "x_train= torch.tensor(x_train, dtype= torch.float32)\n",
    "y_train= torch.tensor(y_train, dtype= torch.float32)\n",
    "\n",
    "x_test= torch.tensor(x_test, dtype= torch.float32)\n",
    "y_test= torch.tensor(y_test, dtype= torch.float32)\n",
    "\n",
    "print(x_train.shape, y_train.shape, x_test.shape, y_train.shape)\n",
    "print(x_train[0], y_train[0], x_test[0], y_test[0])"
   ]
  },
  {
   "cell_type": "code",
   "execution_count": 15,
   "id": "c9a4019e-8c40-4571-9115-d7fee19940ce",
   "metadata": {},
   "outputs": [
    {
     "data": {
      "image/png": "[encoded data removed]",
      "text/plain": [
       "<Figure size 640x480 with 1 Axes>"
      ]
     },
     "metadata": {},
     "output_type": "display_data"
    }
   ],
   "source": [
    "import matplotlib.pyplot as plt\n",
    "\n",
    "plt.scatter(x_train, y_train, s= 100)\n",
    "plt.scatter(x_test, y_test, s= 100)\n",
    "plt.legend(['Train', 'Test']);\n"
   ]
  },
  {
   "cell_type": "code",
   "execution_count": 5,
   "id": "90327277-9f2f-4bad-901a-e0d48ee3b037",
   "metadata": {},
   "outputs": [
    {
     "name": "stdout",
     "output_type": "stream",
     "text": [
      "tensor([1.6012]) tensor([-0.9320])\n"
     ]
    }
   ],
   "source": [
    "from torch.utils.data import TensorDataset, DataLoader \n",
    "\n",
    "train_set= TensorDataset(x_train, y_train)\n",
    "test_set= TensorDataset(x_test, y_test)\n",
    "\n",
    "print(train_set.tensors[0][0], test_set.tensors[0][0])"
   ]
  },
  {
   "cell_type": "code",
   "execution_count": 6,
   "id": "95638a4f-2f54-4832-9976-8bb4d1e3fdeb",
   "metadata": {},
   "outputs": [
    {
     "data": {
      "text/plain": [
       "(<torch.utils.data.dataloader.DataLoader at 0x1478ccf6720>,\n",
       " <torch.utils.data.dataloader.DataLoader at 0x147ffd43530>)"
      ]
     },
     "execution_count": 6,
     "metadata": {},
     "output_type": "execute_result"
    }
   ],
   "source": [
    "train_dataloader= DataLoader(dataset= train_set, batch_size= 5, shuffle= True)\n",
    "test_dataloader= DataLoader(dataset= test_set, batch_size= 5)\n",
    "\n",
    "train_dataloader, test_dataloader"
   ]
  },
  {
   "cell_type": "code",
   "execution_count": 7,
   "id": "a591fadd-999c-4c7c-aae3-6dda79196589",
   "metadata": {},
   "outputs": [
    {
     "data": {
      "text/plain": [
       "(MSELoss(),\n",
       " SGD (\n",
       " Parameter Group 0\n",
       "     dampening: 0\n",
       "     differentiable: False\n",
       "     foreach: None\n",
       "     fused: None\n",
       "     lr: 0.1\n",
       "     maximize: False\n",
       "     momentum: 0.9\n",
       "     nesterov: False\n",
       "     weight_decay: 0\n",
       " ))"
      ]
     },
     "execution_count": 7,
     "metadata": {},
     "output_type": "execute_result"
    }
   ],
   "source": [
    "import torch.nn as nn\n",
    "from torch.optim import SGD\n",
    "\n",
    "linear_regression = nn.Linear(in_features=1, out_features=1)\n",
    "loss_fn= nn.MSELoss()\n",
    "opt= SGD(params=  linear_regression.parameters(), lr= 0.1, momentum= 0.9)\n",
    "\n",
    "loss_fn, opt"
   ]
  },
  {
   "cell_type": "code",
   "execution_count": 8,
   "id": "48211f14-b12f-4011-ad81-1e6b45058cab",
   "metadata": {},
   "outputs": [],
   "source": [
    "iteration= 50"
   ]
  },
  {
   "cell_type": "code",
   "execution_count": 10,
   "id": "d1b9daf0-7146-4627-aca1-840c0ce7efcc",
   "metadata": {},
   "outputs": [
    {
     "name": "stdout",
     "output_type": "stream",
     "text": [
      "[iter]: 0\n",
      "loss: 0.1047, weight: Parameter containing:\n",
      "tensor([[0.6078]], requires_grad=True), bias: Parameter containing:\n",
      "tensor([-0.2594], requires_grad=True)\n",
      "\n",
      "[iter]: 1\n",
      "loss: 0.6588, weight: Parameter containing:\n",
      "tensor([[0.7936]], requires_grad=True), bias: Parameter containing:\n",
      "tensor([-0.0766], requires_grad=True)\n",
      "\n",
      "[iter]: 2\n",
      "loss: 0.0609, weight: Parameter containing:\n",
      "tensor([[1.5067]], requires_grad=True), bias: Parameter containing:\n",
      "tensor([0.4222], requires_grad=True)\n",
      "\n",
      "[iter]: 3\n",
      "loss: 1.6239, weight: Parameter containing:\n",
      "tensor([[0.1008]], requires_grad=True), bias: Parameter containing:\n",
      "tensor([-0.5288], requires_grad=True)\n",
      "\n",
      "[iter]: 4\n",
      "loss: 0.0509, weight: Parameter containing:\n",
      "tensor([[1.4390]], requires_grad=True), bias: Parameter containing:\n",
      "tensor([0.0644], requires_grad=True)\n",
      "\n",
      "[iter]: 5\n",
      "loss: 0.0825, weight: Parameter containing:\n",
      "tensor([[0.9265]], requires_grad=True), bias: Parameter containing:\n",
      "tensor([0.0119], requires_grad=True)\n",
      "\n",
      "[iter]: 6\n",
      "loss: 0.1159, weight: Parameter containing:\n",
      "tensor([[0.7136]], requires_grad=True), bias: Parameter containing:\n",
      "tensor([-0.1252], requires_grad=True)\n",
      "\n",
      "[iter]: 7\n",
      "loss: 0.0639, weight: Parameter containing:\n",
      "tensor([[1.2893]], requires_grad=True), bias: Parameter containing:\n",
      "tensor([-0.0395], requires_grad=True)\n",
      "\n",
      "[iter]: 8\n",
      "loss: 0.0404, weight: Parameter containing:\n",
      "tensor([[0.8617]], requires_grad=True), bias: Parameter containing:\n",
      "tensor([0.1098], requires_grad=True)\n",
      "\n",
      "[iter]: 9\n",
      "loss: 0.2340, weight: Parameter containing:\n",
      "tensor([[0.7271]], requires_grad=True), bias: Parameter containing:\n",
      "tensor([-0.2123], requires_grad=True)\n",
      "\n",
      "[iter]: 10\n",
      "loss: 0.1739, weight: Parameter containing:\n",
      "tensor([[1.3036]], requires_grad=True), bias: Parameter containing:\n",
      "tensor([-0.0323], requires_grad=True)\n",
      "\n",
      "[iter]: 11\n",
      "loss: 0.0478, weight: Parameter containing:\n",
      "tensor([[0.7860]], requires_grad=True), bias: Parameter containing:\n",
      "tensor([0.0640], requires_grad=True)\n",
      "\n",
      "[iter]: 12\n",
      "loss: 0.0599, weight: Parameter containing:\n",
      "tensor([[0.9788]], requires_grad=True), bias: Parameter containing:\n",
      "tensor([-0.1207], requires_grad=True)\n",
      "\n",
      "[iter]: 13\n",
      "loss: 0.0965, weight: Parameter containing:\n",
      "tensor([[1.1354]], requires_grad=True), bias: Parameter containing:\n",
      "tensor([0.1207], requires_grad=True)\n",
      "\n",
      "[iter]: 14\n",
      "loss: 0.0991, weight: Parameter containing:\n",
      "tensor([[0.8692]], requires_grad=True), bias: Parameter containing:\n",
      "tensor([-0.0619], requires_grad=True)\n",
      "\n",
      "[iter]: 15\n",
      "loss: 0.0100, weight: Parameter containing:\n",
      "tensor([[1.0558]], requires_grad=True), bias: Parameter containing:\n",
      "tensor([-0.0219], requires_grad=True)\n",
      "\n",
      "[iter]: 16\n",
      "loss: 0.0698, weight: Parameter containing:\n",
      "tensor([[0.9898]], requires_grad=True), bias: Parameter containing:\n",
      "tensor([0.0187], requires_grad=True)\n",
      "\n",
      "[iter]: 17\n",
      "loss: 0.0388, weight: Parameter containing:\n",
      "tensor([[0.8805]], requires_grad=True), bias: Parameter containing:\n",
      "tensor([-0.0013], requires_grad=True)\n",
      "\n",
      "[iter]: 18\n",
      "loss: 0.0320, weight: Parameter containing:\n",
      "tensor([[1.1444]], requires_grad=True), bias: Parameter containing:\n",
      "tensor([0.0604], requires_grad=True)\n",
      "\n",
      "[iter]: 19\n",
      "loss: 0.0374, weight: Parameter containing:\n",
      "tensor([[0.9660]], requires_grad=True), bias: Parameter containing:\n",
      "tensor([-0.0394], requires_grad=True)\n",
      "\n",
      "[iter]: 20\n",
      "loss: 0.0270, weight: Parameter containing:\n",
      "tensor([[0.8902]], requires_grad=True), bias: Parameter containing:\n",
      "tensor([-0.0136], requires_grad=True)\n",
      "\n",
      "[iter]: 21\n",
      "loss: 0.0477, weight: Parameter containing:\n",
      "tensor([[1.0654]], requires_grad=True), bias: Parameter containing:\n",
      "tensor([0.0813], requires_grad=True)\n",
      "\n",
      "[iter]: 22\n",
      "loss: 0.0705, weight: Parameter containing:\n",
      "tensor([[0.8968]], requires_grad=True), bias: Parameter containing:\n",
      "tensor([-0.0774], requires_grad=True)\n",
      "\n",
      "[iter]: 23\n",
      "loss: 0.0205, weight: Parameter containing:\n",
      "tensor([[1.0768]], requires_grad=True), bias: Parameter containing:\n",
      "tensor([-0.0304], requires_grad=True)\n",
      "\n",
      "[iter]: 24\n",
      "loss: 0.1628, weight: Parameter containing:\n",
      "tensor([[0.9499]], requires_grad=True), bias: Parameter containing:\n",
      "tensor([0.1136], requires_grad=True)\n",
      "\n",
      "[iter]: 25\n",
      "loss: 0.0197, weight: Parameter containing:\n",
      "tensor([[0.9987]], requires_grad=True), bias: Parameter containing:\n",
      "tensor([-0.1558], requires_grad=True)\n",
      "\n",
      "[iter]: 26\n",
      "loss: 0.0456, weight: Parameter containing:\n",
      "tensor([[0.9524]], requires_grad=True), bias: Parameter containing:\n",
      "tensor([0.0836], requires_grad=True)\n",
      "\n",
      "[iter]: 27\n",
      "loss: 0.0170, weight: Parameter containing:\n",
      "tensor([[0.9545]], requires_grad=True), bias: Parameter containing:\n",
      "tensor([0.0024], requires_grad=True)\n",
      "\n",
      "[iter]: 28\n",
      "loss: 0.0615, weight: Parameter containing:\n",
      "tensor([[0.9882]], requires_grad=True), bias: Parameter containing:\n",
      "tensor([-0.0278], requires_grad=True)\n",
      "\n",
      "[iter]: 29\n",
      "loss: 0.0329, weight: Parameter containing:\n",
      "tensor([[1.0133]], requires_grad=True), bias: Parameter containing:\n",
      "tensor([0.0025], requires_grad=True)\n",
      "\n",
      "[iter]: 30\n",
      "loss: 0.0348, weight: Parameter containing:\n",
      "tensor([[0.9373]], requires_grad=True), bias: Parameter containing:\n",
      "tensor([-0.0024], requires_grad=True)\n",
      "\n",
      "[iter]: 31\n",
      "loss: 0.0494, weight: Parameter containing:\n",
      "tensor([[1.0189]], requires_grad=True), bias: Parameter containing:\n",
      "tensor([0.0215], requires_grad=True)\n",
      "\n",
      "[iter]: 32\n",
      "loss: 0.0546, weight: Parameter containing:\n",
      "tensor([[0.9213]], requires_grad=True), bias: Parameter containing:\n",
      "tensor([-0.0010], requires_grad=True)\n",
      "\n",
      "[iter]: 33\n",
      "loss: 0.0477, weight: Parameter containing:\n",
      "tensor([[0.9779]], requires_grad=True), bias: Parameter containing:\n",
      "tensor([-0.0231], requires_grad=True)\n",
      "\n",
      "[iter]: 34\n",
      "loss: 0.0593, weight: Parameter containing:\n",
      "tensor([[0.9980]], requires_grad=True), bias: Parameter containing:\n",
      "tensor([0.0288], requires_grad=True)\n",
      "\n",
      "[iter]: 35\n",
      "loss: 0.0858, weight: Parameter containing:\n",
      "tensor([[0.9112]], requires_grad=True), bias: Parameter containing:\n",
      "tensor([-0.0337], requires_grad=True)\n",
      "\n",
      "[iter]: 36\n",
      "loss: 0.0644, weight: Parameter containing:\n",
      "tensor([[1.0981]], requires_grad=True), bias: Parameter containing:\n",
      "tensor([0.0561], requires_grad=True)\n",
      "\n",
      "[iter]: 37\n",
      "loss: 0.0540, weight: Parameter containing:\n",
      "tensor([[0.9609]], requires_grad=True), bias: Parameter containing:\n",
      "tensor([0.0330], requires_grad=True)\n",
      "\n",
      "[iter]: 38\n",
      "loss: 0.0361, weight: Parameter containing:\n",
      "tensor([[0.9443]], requires_grad=True), bias: Parameter containing:\n",
      "tensor([-0.0545], requires_grad=True)\n",
      "\n",
      "[iter]: 39\n",
      "loss: 0.1038, weight: Parameter containing:\n",
      "tensor([[1.0523]], requires_grad=True), bias: Parameter containing:\n",
      "tensor([-0.0218], requires_grad=True)\n",
      "\n",
      "[iter]: 40\n",
      "loss: 0.0102, weight: Parameter containing:\n",
      "tensor([[0.9147]], requires_grad=True), bias: Parameter containing:\n",
      "tensor([0.0766], requires_grad=True)\n",
      "\n",
      "[iter]: 41\n",
      "loss: 0.0883, weight: Parameter containing:\n",
      "tensor([[0.9588]], requires_grad=True), bias: Parameter containing:\n",
      "tensor([-0.0730], requires_grad=True)\n",
      "\n",
      "[iter]: 42\n",
      "loss: 0.0158, weight: Parameter containing:\n",
      "tensor([[1.0382]], requires_grad=True), bias: Parameter containing:\n",
      "tensor([0.0920], requires_grad=True)\n",
      "\n",
      "[iter]: 43\n",
      "loss: 0.0667, weight: Parameter containing:\n",
      "tensor([[0.9273]], requires_grad=True), bias: Parameter containing:\n",
      "tensor([-0.0011], requires_grad=True)\n",
      "\n",
      "[iter]: 44\n",
      "loss: 0.1294, weight: Parameter containing:\n",
      "tensor([[1.0624]], requires_grad=True), bias: Parameter containing:\n",
      "tensor([-0.1024], requires_grad=True)\n",
      "\n",
      "[iter]: 45\n",
      "loss: 0.0870, weight: Parameter containing:\n",
      "tensor([[0.9680]], requires_grad=True), bias: Parameter containing:\n",
      "tensor([0.1304], requires_grad=True)\n",
      "\n",
      "[iter]: 46\n",
      "loss: 0.0109, weight: Parameter containing:\n",
      "tensor([[0.9063]], requires_grad=True), bias: Parameter containing:\n",
      "tensor([-0.0678], requires_grad=True)\n",
      "\n",
      "[iter]: 47\n",
      "loss: 0.0342, weight: Parameter containing:\n",
      "tensor([[1.0375]], requires_grad=True), bias: Parameter containing:\n",
      "tensor([-0.0050], requires_grad=True)\n",
      "\n",
      "[iter]: 48\n",
      "loss: 0.0459, weight: Parameter containing:\n",
      "tensor([[0.9138]], requires_grad=True), bias: Parameter containing:\n",
      "tensor([-0.0117], requires_grad=True)\n",
      "\n",
      "[iter]: 49\n",
      "loss: 0.0445, weight: Parameter containing:\n",
      "tensor([[1.0184]], requires_grad=True), bias: Parameter containing:\n",
      "tensor([-0.0123], requires_grad=True)\n",
      "\n"
     ]
    }
   ],
   "source": [
    "for i in range(iteration):    \n",
    "    for x_batch, y_batch in train_dataloader:\n",
    "\n",
    "        #model\n",
    "        y_hat= linear_regression(x_batch)\n",
    "\n",
    "        #loss\n",
    "        loss= loss_fn(y_batch, y_hat)\n",
    "\n",
    "        #gradient\n",
    "        loss.backward()    \n",
    "\n",
    "        #update\n",
    "        opt.step()\n",
    "        opt.zero_grad()\n",
    "        \n",
    "    print(f'[iter]: {i}\\nloss: {loss:.4f}, weight: {linear_regression.weight}, bias: {linear_regression.bias}')\n",
    "    print()"
   ]
  },
  {
   "cell_type": "code",
   "execution_count": 35,
   "id": "02e54a63-85f4-4409-a9a4-e819f20c30dd",
   "metadata": {},
   "outputs": [
    {
     "name": "stdout",
     "output_type": "stream",
     "text": [
      "1.0184134244918823 -0.01233578473329544\n"
     ]
    },
    {
     "data": {
      "image/png": "[encoded data removed]",
      "text/plain": [
       "<Figure size 640x480 with 1 Axes>"
      ]
     },
     "metadata": {},
     "output_type": "display_data"
    }
   ],
   "source": [
    "weight= linear_regression.weight.item()\n",
    "bias= linear_regression.bias.item()\n",
    "\n",
    "print(weight, bias)\n",
    "\n",
    "y_hat= x_train * weight + bias\n",
    "\n",
    "plt.scatter(x_train, y_train, color= 'green')\n",
    "plt.scatter(x_test, y_test, color= 'blue')\n",
    "plt.legend(['Train', 'Test'])\n",
    "\n",
    "plt.plot(x_train, y_hat, color='orange', label='Fitted Line');\n"
   ]
  },
  {
   "cell_type": "code",
   "execution_count": 26,
   "id": "c2976de8-0f32-4d65-868c-21e6ccb401ce",
   "metadata": {},
   "outputs": [
    {
     "name": "stdout",
     "output_type": "stream",
     "text": [
      "tensor(0.1305)\n",
      "tensor(0.1611)\n",
      "tensor(0.1753)\n"
     ]
    }
   ],
   "source": [
    "with torch.no_grad():\n",
    "    for x_batch, y_batch in test_dataloader:\n",
    "        y_hat = linear_regression(x_batch)\n",
    "        error= nn.functional.l1_loss(y_batch, y_hat)\n",
    "        print(error)"
   ]
  }
 ],
 "metadata": {
  "kernelspec": {
   "display_name": "Python 3 (ipykernel)",
   "language": "python",
   "name": "python3"
  },
  "language_info": {
   "codemirror_mode": {
    "name": "ipython",
    "version": 3
   },
   "file_extension": ".py",
   "mimetype": "text/x-python",
   "name": "python",
   "nbconvert_exporter": "python",
   "pygments_lexer": "ipython3",
   "version": "3.12.8"
  }
 },
 "nbformat": 4,
 "nbformat_minor": 5
}
